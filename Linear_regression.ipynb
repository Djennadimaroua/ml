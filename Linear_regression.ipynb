{
 "cells": [
  {
   "cell_type": "markdown",
   "metadata": {},
   "source": [
    "# Univariate Linear Regression\n",
    "\n",
    "$ h_\\theta(x) = \\theta_0 + \\theta_1 * x $\n",
    "\n",
    "## Cost function\n",
    "\n",
    "$ J(\\theta_0, \\theta_1) = \\frac{1}{2m} \\sum_{i=1}^{m} (h_\\theta(x^{(i)}) - y^{(i)})^2 $\n",
    "\n",
    "## Gradient descent\n",
    "\n",
    "repeat until convergence {\n",
    "\n",
    ">$ \\theta_j = \\theta_j - \\alpha \\frac{\\partial}{\\partial \\theta_j} J(\\theta_0, \\theta_1) $\n",
    "\n",
    "}\n",
    "\n",
    "$ \\frac{\\partial}{\\partial \\theta_0} J(\\theta_0, \\theta_1) = \\frac{1}{m} \\sum_{i=1}^{m} (h_\\theta(x^{(i)}) - y^{(i)}) $\n",
    "\n",
    "$ \\frac{\\partial}{\\partial \\theta_1} J(\\theta_0, \\theta_1) = \\frac{1}{m} \\sum_{i=1}^{m} (h_\\theta(x^{(i)}) - y^{(i)}) x^{(i)} $"
   ]
  },
  {
   "cell_type": "code",
   "execution_count": 1,
   "metadata": {
    "collapsed": true
   },
   "outputs": [],
   "source": [
    "import numpy\n",
    "import matplotlib.pyplot as plt\n",
    "%matplotlib inline"
   ]
  },
  {
   "cell_type": "code",
   "execution_count": 2,
   "metadata": {
    "collapsed": false
   },
   "outputs": [
    {
     "ename": "NameError",
     "evalue": "name 'np' is not defined",
     "output_type": "error",
     "traceback": [
      "\u001b[1;31m---------------------------------------------------------------------------\u001b[0m",
      "\u001b[1;31mNameError\u001b[0m                                 Traceback (most recent call last)",
      "\u001b[1;32m<ipython-input-2-b0879bf6a1ff>\u001b[0m in \u001b[0;36m<module>\u001b[1;34m()\u001b[0m\n\u001b[0;32m      1\u001b[0m \u001b[1;31m# Number of residents\u001b[0m\u001b[1;33m\u001b[0m\u001b[1;33m\u001b[0m\u001b[0m\n\u001b[1;32m----> 2\u001b[1;33m \u001b[0mX\u001b[0m \u001b[1;33m=\u001b[0m \u001b[0mnp\u001b[0m\u001b[1;33m.\u001b[0m\u001b[0marray\u001b[0m\u001b[1;33m(\u001b[0m\u001b[1;33m[\u001b[0m\u001b[1;36m761873\u001b[0m\u001b[1;33m,\u001b[0m \u001b[1;36m706004\u001b[0m\u001b[1;33m,\u001b[0m \u001b[1;36m634487\u001b[0m\u001b[1;33m,\u001b[0m \u001b[1;36m545680\u001b[0m\u001b[1;33m,\u001b[0m \u001b[1;36m461489\u001b[0m\u001b[1;33m,\u001b[0m \u001b[1;36m407180\u001b[0m\u001b[1;33m,\u001b[0m \u001b[1;36m357652\u001b[0m\u001b[1;33m,\u001b[0m \u001b[1;36m341722\u001b[0m\u001b[1;33m,\u001b[0m \u001b[1;36m301834\u001b[0m\u001b[1;33m,\u001b[0m \u001b[1;36m295459\u001b[0m\u001b[1;33m,\u001b[0m \u001b[1;36m203158\u001b[0m\u001b[1;33m,\u001b[0m \u001b[1;36m198857\u001b[0m\u001b[1;33m,\u001b[0m \u001b[1;36m185123\u001b[0m\u001b[1;33m,\u001b[0m \u001b[1;36m173831\u001b[0m\u001b[1;33m,\u001b[0m \u001b[1;36m124145\u001b[0m\u001b[1;33m,\u001b[0m \u001b[1;36m119574\u001b[0m\u001b[1;33m,\u001b[0m \u001b[1;36m117738\u001b[0m\u001b[1;33m]\u001b[0m\u001b[1;33m)\u001b[0m\u001b[1;33m\u001b[0m\u001b[0m\n\u001b[0m\u001b[0;32m      3\u001b[0m \u001b[0mX\u001b[0m \u001b[1;33m=\u001b[0m \u001b[0mX\u001b[0m \u001b[1;33m*\u001b[0m \u001b[1;36m0.00001\u001b[0m\u001b[1;33m\u001b[0m\u001b[0m\n\u001b[0;32m      4\u001b[0m \u001b[0mm\u001b[0m \u001b[1;33m=\u001b[0m \u001b[0mX\u001b[0m\u001b[1;33m.\u001b[0m\u001b[0msize\u001b[0m\u001b[1;33m\u001b[0m\u001b[0m\n\u001b[0;32m      5\u001b[0m \u001b[1;31m# Number of cars\u001b[0m\u001b[1;33m\u001b[0m\u001b[1;33m\u001b[0m\u001b[0m\n",
      "\u001b[1;31mNameError\u001b[0m: name 'np' is not defined"
     ]
    }
   ],
   "source": [
    "# Number of residents\n",
    "X = np.array([761873, 706004, 634487, 545680, 461489, 407180, 357652, 341722, 301834, 295459, 203158, 198857, 185123, 173831, 124145, 119574, 117738])\n",
    "X = X * 0.00001\n",
    "m = X.size\n",
    "# Number of cars\n",
    "Y = np.array([482747, 397452, 437672, 401576, 294667, 226191, 224288, 196850, 218852, 138271, 114581, 110440, 107436, 99258, 74317, 86604, 74210])\n",
    "Y = Y * 0.00001\n",
    "\n",
    "# Create copy of array X and insert column of ones at index 0.\n",
    "# Now we can calculate h_teta(x) = np.dot(Xprim, teta)\n",
    "Xprim = np.copy(X)\n",
    "Xprim.shape = (m, 1)\n",
    "Xprim = np.insert(Xprim, 0, 1, axis=1)\n",
    "\n",
    "# Initial teta parameters\n",
    "teta = np.array([1, 1])\n",
    "\n",
    "h_teta = np.dot(Xprim, teta)\n",
    "\n",
    "#plt.plot(X, Y, 'go', X, np.dot(Xprim, teta), 'b')\n",
    "plt.plot(X, Y, 'go')\n",
    "plt.plot(X, h_teta, 'b')\n",
    "\n",
    "plt.grid(True)\n",
    "plt.xlabel('Number of residents (in 100 thousands)')\n",
    "plt.ylabel('Number of cars (in 100 thousands)')\n",
    "plt.title('Cars and Residents (Poland 2017)')\n",
    "plt.show()"
   ]
  },
  {
   "cell_type": "code",
   "execution_count": 3,
   "metadata": {
    "collapsed": false
   },
   "outputs": [
    {
     "ename": "NameError",
     "evalue": "name 'np' is not defined",
     "output_type": "error",
     "traceback": [
      "\u001b[1;31m---------------------------------------------------------------------------\u001b[0m",
      "\u001b[1;31mNameError\u001b[0m                                 Traceback (most recent call last)",
      "\u001b[1;32m<ipython-input-3-cd0cfceed7da>\u001b[0m in \u001b[0;36m<module>\u001b[1;34m()\u001b[0m\n\u001b[1;32m----> 1\u001b[1;33m \u001b[0mJ\u001b[0m \u001b[1;33m=\u001b[0m \u001b[0mnp\u001b[0m\u001b[1;33m.\u001b[0m\u001b[0msum\u001b[0m\u001b[1;33m(\u001b[0m\u001b[0mnp\u001b[0m\u001b[1;33m.\u001b[0m\u001b[0mpower\u001b[0m\u001b[1;33m(\u001b[0m\u001b[0mh_teta\u001b[0m \u001b[1;33m-\u001b[0m \u001b[0mY\u001b[0m\u001b[1;33m,\u001b[0m \u001b[1;36m2\u001b[0m\u001b[1;33m)\u001b[0m\u001b[1;33m)\u001b[0m \u001b[1;33m*\u001b[0m \u001b[1;36m1\u001b[0m\u001b[1;33m/\u001b[0m\u001b[1;33m(\u001b[0m\u001b[1;36m2\u001b[0m\u001b[1;33m*\u001b[0m\u001b[0mm\u001b[0m\u001b[1;33m)\u001b[0m\u001b[1;33m\u001b[0m\u001b[0m\n\u001b[0m\u001b[0;32m      2\u001b[0m \u001b[0malpha\u001b[0m \u001b[1;33m=\u001b[0m \u001b[1;36m0.1\u001b[0m\u001b[1;33m\u001b[0m\u001b[0m\n\u001b[0;32m      3\u001b[0m \u001b[1;33m\u001b[0m\u001b[0m\n\u001b[0;32m      4\u001b[0m \u001b[1;32mwhile\u001b[0m \u001b[0mJ\u001b[0m \u001b[1;33m>\u001b[0m \u001b[1;36m0.05\u001b[0m\u001b[1;33m:\u001b[0m\u001b[1;33m\u001b[0m\u001b[0m\n\u001b[0;32m      5\u001b[0m     \u001b[0mh_teta\u001b[0m \u001b[1;33m=\u001b[0m \u001b[0mnp\u001b[0m\u001b[1;33m.\u001b[0m\u001b[0mdot\u001b[0m\u001b[1;33m(\u001b[0m\u001b[0mXprim\u001b[0m\u001b[1;33m,\u001b[0m \u001b[0mteta\u001b[0m\u001b[1;33m)\u001b[0m\u001b[1;33m\u001b[0m\u001b[0m\n",
      "\u001b[1;31mNameError\u001b[0m: name 'np' is not defined"
     ]
    }
   ],
   "source": [
    "J = np.sum(np.power(h_teta - Y, 2)) * 1/(2*m)\n",
    "alpha = 0.1\n",
    "\n",
    "while J > 0.05:\n",
    "    h_teta = np.dot(Xprim, teta)\n",
    "\n",
    "    t0 = alpha * np.sum(h_teta - Y) * 1/m\n",
    "    t1 = alpha * (h_teta - Y).dot(X) * 1/m \n",
    "\n",
    "    teta = teta - np.array([t0, t1])\n",
    "    J = np.sum(np.power(h_teta - Y, 2)) * 1/(2*m)"
   ]
  },
  {
   "cell_type": "code",
   "execution_count": 117,
   "metadata": {
    "collapsed": false
   },
   "outputs": [
    {
     "data": {
      "image/png": "[encoded data removed]",
      "text/plain": [
       "<matplotlib.figure.Figure at 0x6e437d0>"
      ]
     },
     "metadata": {},
     "output_type": "display_data"
    }
   ],
   "source": [
    "#plt.plot(X, Y, 'go', X, np.dot(Xprim, teta), 'b')\n",
    "plt.plot(X, Y, 'go')\n",
    "plt.plot(X, h_teta, 'b')\n",
    "\n",
    "plt.grid(True)\n",
    "plt.xlabel('Number of residents (in 100 thousands)')\n",
    "plt.ylabel('Number of cars (in 100 thousands)')\n",
    "plt.title('Cars and Residents (Poland 2017)')\n",
    "plt.show()"
   ]
  },
  {
   "cell_type": "code",
   "execution_count": 118,
   "metadata": {
    "collapsed": false
   },
   "outputs": [
    {
     "data": {
      "text/plain": [
       "array([ 0.24752881,  0.57345412])"
      ]
     },
     "execution_count": 118,
     "metadata": {},
     "output_type": "execute_result"
    }
   ],
   "source": [
    "teta"
   ]
  },
  {
   "cell_type": "code",
   "execution_count": null,
   "metadata": {
    "collapsed": true
   },
   "outputs": [],
   "source": []
  }
 ],
 "metadata": {
  "kernelspec": {
   "display_name": "Python 2",
   "language": "python",
   "name": "python2"
  },
  "language_info": {
   "codemirror_mode": {
    "name": "ipython",
    "version": 2
   },
   "file_extension": ".py",
   "mimetype": "text/x-python",
   "name": "python",
   "nbconvert_exporter": "python",
   "pygments_lexer": "ipython2",
   "version": "2.7.13"
  }
 },
 "nbformat": 4,
 "nbformat_minor": 2
}
