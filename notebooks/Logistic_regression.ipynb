{
 "cells": [
  {
   "cell_type": "markdown",
   "metadata": {
    "deletable": true,
    "editable": true
   },
   "source": [
    "# Logistic regression\n",
    "\n",
    "## Logistic regression model\n",
    "$ h_\\theta(x) = g(\\theta^{\\intercal}x) $\n",
    "\n",
    "where: $ g(z) = \\frac{1}{1+e^{-z}} $; $z = \\theta^{\\intercal}x $\n",
    "\n",
    "$ h_\\theta(x) = \\frac{1}{1+e^{-\\theta^{\\intercal}x}} $\n",
    "\n",
    "## Cost function (with regularization)\n",
    "$ J(\\theta) = \\frac{1}{m} \\sum_{i=1}^{m} [-y^{(i)}log(h_\\theta(x^{(i)})) - (1 - y^{(i)})log(1 - h_\\theta(x^{(i)}))] + \\frac{\\lambda}{2m}\\sum_{j=1}^{n}\\theta_j^2$\n",
    "\n",
    "## Gradient descent (with regularization)\n",
    "\n",
    "repeat until convergence {\n",
    "\n",
    ">$ \\theta_j = \\theta_j - \\alpha \\frac{\\partial}{\\partial \\theta_j} J(\\theta) $\n",
    "\n",
    "}\n",
    "\n",
    "$ \\frac{\\partial}{\\partial \\theta_0} J(\\theta) = \\frac{1}{m} \\sum_{i=1}^{m} (h_\\theta(x^{(i)}) - y^{(i)}) x_j^{(i)} $ for j = 0 \n",
    "\n",
    "$ \\frac{\\partial}{\\partial \\theta_j} J(\\theta) = ( \\frac{1}{m} \\sum_{i=1}^{m} (h_\\theta(x^{(i)}) - y^{(i)}) x_j^{(i)} ) + \\frac{\\lambda}{m} \\theta_j $ for j >= 1"
   ]
  },
  {
   "cell_type": "code",
   "execution_count": 1,
   "metadata": {
    "collapsed": false,
    "deletable": true,
    "editable": true
   },
   "outputs": [],
   "source": [
    "from scipy import optimize\n",
    "import numpy as np\n",
    "import matplotlib.pyplot as plt\n",
    "%matplotlib inline"
   ]
  },
  {
   "cell_type": "code",
   "execution_count": 2,
   "metadata": {
    "collapsed": false,
    "deletable": true,
    "editable": true
   },
   "outputs": [
    {
     "data": {
      "image/png": "[encoded data removed]",
      "text/plain": [
       "<matplotlib.figure.Figure at 0x12867410>"
      ]
     },
     "metadata": {},
     "output_type": "display_data"
    }
   ],
   "source": [
    "def sigmoid(x):\n",
    "    return 1.0 / (1 + np.exp(-1 * x))\n",
    "\n",
    "x = [0.1 * x for x in xrange(-100, 100)]\n",
    "y = map(sigmoid, x)\n",
    "\n",
    "plt.plot(x, y)\n",
    "\n",
    "plt.grid(True)\n",
    "plt.xlabel('X')\n",
    "plt.ylabel('Y')\n",
    "plt.title('Sigmoid')\n",
    "plt.show()"
   ]
  },
  {
   "cell_type": "code",
   "execution_count": 3,
   "metadata": {
    "collapsed": false,
    "deletable": true,
    "editable": true
   },
   "outputs": [
    {
     "data": {
      "image/png": "[encoded data removed]",
      "text/plain": [
       "<matplotlib.figure.Figure at 0x1293d630>"
      ]
     },
     "metadata": {},
     "output_type": "display_data"
    }
   ],
   "source": [
    "data = np.loadtxt('microchip_tests.csv', delimiter=',')\n",
    "\n",
    "# Filter data based on last column value\n",
    "passed = data[np.where(data[:,2] == 1)]\n",
    "failed = data[np.where(data[:,2] == 0)]\n",
    "\n",
    "plt.plot(passed[:, 0], passed[:, 1], 'go')\n",
    "plt.plot(failed[:, 0], failed[:, 1], 'r+')\n",
    "\n",
    "plt.grid(True)\n",
    "plt.xlabel('Microchip Test 1')\n",
    "plt.ylabel('Microchip Test 2')\n",
    "plt.title('Microchip Tests')\n",
    "plt.show()"
   ]
  },
  {
   "cell_type": "markdown",
   "metadata": {
    "collapsed": false,
    "deletable": true,
    "editable": true
   },
   "source": [
    "## Hypothesis\n",
    "\n",
    "$ h_\\theta(x) = g(\\theta_0 * x_0 + \\theta_1 * x_1 + \\theta_2 * x_2 + \\theta_3 * x_1^2*x_2+ ... + \\theta_n * x_1^n*x_2^n) $\n",
    "\n",
    ",where:\n",
    "\n",
    "$ x_0 = 1 $ (used to make math easier)\n",
    "\n",
    "$ x_1 $ - Microchip Test 1\n",
    "\n",
    "$ x_2 $ - Microchip Test 2\n",
    "\n",
    "$ n $ - Degree of features polynomial\n",
    "\n",
    "$ g(z) = \\frac{1}{1+e^{-z}} $ - Sigmoid function"
   ]
  },
  {
   "cell_type": "code",
   "execution_count": 4,
   "metadata": {
    "collapsed": false,
    "deletable": true,
    "editable": true
   },
   "outputs": [],
   "source": [
    "def map_features(x, degree=6):\n",
    "    \"\"\"Map features to polynomial features.\"\"\"\n",
    "    features_count = sum(xrange(2, degree+2))\n",
    "    ret = np.ones((x.shape[0], features_count))\n",
    "\n",
    "    x1 = x[:, 0]\n",
    "    x2 = x[:, 1]\n",
    "\n",
    "    col = 0\n",
    "    for i in xrange(1, degree+1):\n",
    "        for j in xrange(0, i+1):\n",
    "            temp = np.power(x1, i-j) * np.power(x2, j)\n",
    "            ret[:, col] = temp\n",
    "            col += 1\n",
    "    \n",
    "    return ret"
   ]
  },
  {
   "cell_type": "code",
   "execution_count": 5,
   "metadata": {
    "collapsed": false,
    "deletable": true,
    "editable": true
   },
   "outputs": [],
   "source": [
    "def cost_function(theta, x, y, l=0):\n",
    "    m = x.shape[0]\n",
    "    h = sigmoid(theta.T.dot(x.T)).T\n",
    "    h = np.asarray(h)\n",
    "\n",
    "    y = y.reshape(h.shape)\n",
    "    \n",
    "    theta = theta.ravel()\n",
    "    \n",
    "    reg = ((1.0 * l) / (2 * m)) * np.sum(np.power(theta[1:], 2))\n",
    "    J = (1.0 / m) * (((-1 * y.T).dot(np.log(h))) - ((1 - y.T).dot(np.log(1 - h))))\n",
    "    J += reg\n",
    "    \n",
    "    grad = (1.0 / m) * ((h - y).T.dot(x))\n",
    "    grad = grad.ravel()       \n",
    "        \n",
    "    grad_0 = grad[0]\n",
    "    reg = (((1.0 * l) / m) * theta.ravel()).T\n",
    "    grad += reg\n",
    "    grad[0] = grad_0\n",
    "    \n",
    "    return (np.sum(J), grad)"
   ]
  },
  {
   "cell_type": "code",
   "execution_count": 6,
   "metadata": {
    "collapsed": false,
    "deletable": true,
    "editable": true
   },
   "outputs": [],
   "source": [
    "# Prepare training and cross validation data\n",
    "passed_size = passed.shape[0]\n",
    "failed_size = failed.shape[0]\n",
    "\n",
    "training_size = 0.75\n",
    "\n",
    "passed_train = passed[0:int(training_size * passed_size)]\n",
    "passed_cv = passed[int(training_size * passed_size):]\n",
    "\n",
    "failed_train = failed[0:int(training_size * failed_size)]\n",
    "failed_cv = failed[int(training_size * failed_size):]\n",
    "\n",
    "assert np.array_equal(passed, np.concatenate((passed_train, passed_cv), axis=0))\n",
    "assert np.array_equal(failed, np.concatenate((failed_train, failed_cv), axis=0))"
   ]
  },
  {
   "cell_type": "code",
   "execution_count": 7,
   "metadata": {
    "collapsed": false,
    "deletable": true,
    "editable": true
   },
   "outputs": [],
   "source": [
    "# Training data\n",
    "train = np.concatenate((passed_train, failed_train), axis=0)\n",
    "train_x = np.array(train[:, :2])\n",
    "train_x = map_features(train_x)\n",
    "\n",
    "# Add extra column of 1's at the begining - for bias (theta_0)\n",
    "temp_array = np.ones((train_x.shape[0], train_x.shape[1] + 1))\n",
    "temp_array[:, 1:] = train_x\n",
    "train_x = temp_array\n",
    "\n",
    "train_y = train[:, 2]\n",
    "\n",
    "# Cross validation data\n",
    "cv = np.concatenate((passed_cv, failed_cv), axis=0)\n",
    "cv_x = np.array(cv[:, :2])\n",
    "cv_x = map_features(cv_x)\n",
    "\n",
    "# Add extra column of 1's at the begining - for bias (theta_0)\n",
    "temp_array = np.ones((cv_x.shape[0], cv_x.shape[1] + 1))\n",
    "temp_array[:, 1:] = cv_x\n",
    "cv_x = temp_array\n",
    "\n",
    "cv_y = cv[:, 2]"
   ]
  },
  {
   "cell_type": "code",
   "execution_count": 8,
   "metadata": {
    "collapsed": false,
    "deletable": true,
    "editable": true
   },
   "outputs": [],
   "source": [
    "# Initial cost\n",
    "theta = np.random.rand(train_x.shape[1],1)\n",
    "l = 1\n",
    "\n",
    "J, grad = cost_function(theta, train_x, train_y, l)\n",
    "\n",
    "J_arr = []\n",
    "n = 0\n",
    "\n",
    "alpha = 0.7\n",
    "while J > 0.01 and n < 1000:\n",
    "    J_arr.append(J)\n",
    "    theta = (theta.T - alpha * grad).T\n",
    "    \n",
    "    J, grad = cost_function(theta, train_x, train_y, l)\n",
    "    n += 1\n"
   ]
  },
  {
   "cell_type": "code",
   "execution_count": 9,
   "metadata": {
    "collapsed": false,
    "deletable": true,
    "editable": true
   },
   "outputs": [
    {
     "data": {
      "image/png": "[encoded data removed]",
      "text/plain": [
       "<matplotlib.figure.Figure at 0x12a50a50>"
      ]
     },
     "metadata": {},
     "output_type": "display_data"
    },
    {
     "name": "stdout",
     "output_type": "stream",
     "text": [
      "Final cost = 0.634427975778\n"
     ]
    }
   ],
   "source": [
    "plt.plot(xrange(len(J_arr)), J_arr, 'g')\n",
    "plt.grid(True)\n",
    "plt.xlabel('Iterations')\n",
    "plt.ylabel('Cost')\n",
    "plt.title('Cost function')\n",
    "plt.show()\n",
    "\n",
    "print('Final cost = {0}'.format(J_arr[-1]))"
   ]
  },
  {
   "cell_type": "code",
   "execution_count": 10,
   "metadata": {
    "collapsed": false,
    "deletable": true,
    "editable": true
   },
   "outputs": [
    {
     "data": {
      "image/png": "[encoded data removed]",
      "text/plain": [
       "<matplotlib.figure.Figure at 0x12b1bc70>"
      ]
     },
     "metadata": {},
     "output_type": "display_data"
    }
   ],
   "source": [
    "u = np.linspace(-1, 1.5, 50);\n",
    "v = np.linspace(-1, 1.5, 50);\n",
    "z = np.zeros((u.shape[0], v.shape[0]))\n",
    "\n",
    "for i in xrange(z.shape[0]):\n",
    "    for j in xrange(z.shape[1]):\n",
    "        x = map_features(np.array([[u[i], v[j]]]))\n",
    "        temp_array = np.ones((x.shape[0], x.shape[1] + 1))\n",
    "        temp_array[:, 1:] = x\n",
    "        x = temp_array        \n",
    "        z[i, j] = round(sigmoid(theta.T.dot( x.T)))\n",
    "     \n",
    "plt.contour(u, v, z, levels=[0])\n",
    "\n",
    "plt.plot(passed[:, 0], passed[:, 1], 'go')\n",
    "plt.plot(failed[:, 0], failed[:, 1], 'r+')\n",
    "\n",
    "plt.grid(True)\n",
    "plt.xlabel('Microchip Test 1')\n",
    "plt.ylabel('Microchip Test 2')\n",
    "plt.title('Microchip Tests')\n",
    "plt.show()"
   ]
  },
  {
   "cell_type": "code",
   "execution_count": 11,
   "metadata": {
    "collapsed": false,
    "deletable": true,
    "editable": true
   },
   "outputs": [
    {
     "name": "stdout",
     "output_type": "stream",
     "text": [
      "Training prediction rate: 0.74%\n",
      "CV prediction rate: 0.43%\n"
     ]
    }
   ],
   "source": [
    "def predict(X):\n",
    "    return map(round, sigmoid(theta.T.dot(X.T)).ravel())\n",
    "\n",
    "pred_train = map(abs, predict(train_x) - train_y)\n",
    "pred_cv = map(abs, predict(cv_x) - cv_y)\n",
    "\n",
    "pred_train_rate = 1. - (1. * sum(pred_train)) / len(pred_train)\n",
    "pred_cv_rate = 1. - (1. * sum(pred_cv)) / len(pred_cv)\n",
    "\n",
    "\n",
    "print 'Training prediction rate: {0:.2}%'.format(pred_train_rate)\n",
    "print 'CV prediction rate: {0:.2}%'.format(pred_cv_rate)"
   ]
  },
  {
   "cell_type": "code",
   "execution_count": null,
   "metadata": {
    "collapsed": true,
    "deletable": true,
    "editable": true
   },
   "outputs": [],
   "source": []
  }
 ],
 "metadata": {
  "kernelspec": {
   "display_name": "Python 2",
   "language": "python",
   "name": "python2"
  },
  "language_info": {
   "codemirror_mode": {
    "name": "ipython",
    "version": 2
   },
   "file_extension": ".py",
   "mimetype": "text/x-python",
   "name": "python",
   "nbconvert_exporter": "python",
   "pygments_lexer": "ipython2",
   "version": "2.7.13"
  }
 },
 "nbformat": 4,
 "nbformat_minor": 2
}
